{
 "cells": [
  {
   "cell_type": "code",
   "execution_count": 1,
   "id": "5e6ef173",
   "metadata": {},
   "outputs": [],
   "source": [
    "import logging as lg"
   ]
  },
  {
   "cell_type": "code",
   "execution_count": 2,
   "id": "cefc161f",
   "metadata": {},
   "outputs": [],
   "source": [
    "lg.basicConfig(filename = 'test.log', level = lg.INFO, format = '%(asctime)s %(message)s')"
   ]
  },
  {
   "cell_type": "code",
   "execution_count": 4,
   "id": "9c54762e",
   "metadata": {},
   "outputs": [],
   "source": [
    "lg.info(\"Info logging\")\n",
    "lg.debug(\"Debug Logging\")\n",
    "lg.warning('warning log')\n",
    "lg.error('error log')\n",
    "lg.exception('exception log')\n",
    "lg.critical('this is critical log')"
   ]
  },
  {
   "cell_type": "code",
   "execution_count": null,
   "id": "fbe06a59",
   "metadata": {},
   "outputs": [],
   "source": []
  }
 ],
 "metadata": {
  "kernelspec": {
   "display_name": "Python 3",
   "language": "python",
   "name": "python3"
  },
  "language_info": {
   "codemirror_mode": {
    "name": "ipython",
    "version": 3
   },
   "file_extension": ".py",
   "mimetype": "text/x-python",
   "name": "python",
   "nbconvert_exporter": "python",
   "pygments_lexer": "ipython3",
   "version": "3.8.8"
  }
 },
 "nbformat": 4,
 "nbformat_minor": 5
}
